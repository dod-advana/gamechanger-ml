{
 "cells": [
  {
   "cell_type": "markdown",
   "metadata": {},
   "source": [
    "## bert-large"
   ]
  },
  {
   "cell_type": "code",
   "execution_count": 1,
   "metadata": {},
   "outputs": [],
   "source": [
    "import os\n",
    "import json\n",
    "import logging\n",
    "from pathlib import Path\n",
    "from pprint import pformat\n",
    "\n",
    "fmt = \"[%(asctime)s %(levelname)-8s], [%(filename)s:%(lineno)s - %(funcName)s()], %(message)s\" \n",
    "logging.basicConfig(level=logging.INFO, format=fmt)\n",
    "logger = logging.getLogger(\"example\")\n",
    "\n",
    "# move to the root directory\n",
    "cwd = os.getcwd() \n",
    "os.chdir(Path(cwd).parents[1]) \n",
    "here = os.getcwd()\n",
    "\n",
    "# find the test data\n",
    "test_json_path = os.path.join(here, \"embed_reader\", \"test\", \"test_data\") \n",
    "assert os.path.isdir(test_json_path)"
   ]
  },
  {
   "cell_type": "code",
   "execution_count": 2,
   "metadata": {},
   "outputs": [],
   "source": [
    "os.chdir(Path(here).parents[2])"
   ]
  },
  {
   "cell_type": "code",
   "execution_count": 3,
   "metadata": {},
   "outputs": [],
   "source": [
    "from gamechangerml.src.search.embed_reader.examples.json_util import read_json\n",
    "from gamechangerml.src.search.embed_reader.sparse import SparseReader"
   ]
  },
  {
   "cell_type": "code",
   "execution_count": 4,
   "metadata": {},
   "outputs": [],
   "source": [
    "query_1_file = os.path.join(test_json_path, \"query_results.json\")\n",
    "query_1_results = read_json(query_1_file)"
   ]
  },
  {
   "cell_type": "code",
   "execution_count": 5,
   "metadata": {},
   "outputs": [],
   "source": [
    "model_name = \"deepset/bert-large-uncased-whole-word-masking-squad2\"\n",
    "context_window_size=150\n",
    "top_k = None\n",
    "use_gpu = False"
   ]
  },
  {
   "cell_type": "code",
   "execution_count": 6,
   "metadata": {},
   "outputs": [
    {
     "name": "stderr",
     "output_type": "stream",
     "text": [
      "[2020-11-23 15:12:18,813 INFO    ], [sparse.py:49 - __init__()], SparseReader 0.4.0\n",
      "[2020-11-23 15:12:18,815 INFO    ], [sparse.py:55 - __init__()], instantiating base reader\n",
      "[2020-11-23 15:12:18,816 INFO    ], [sparse.py:56 - __init__()],          model_name : deepset/bert-large-uncased-whole-word-masking-squad2\n",
      "[2020-11-23 15:12:18,817 INFO    ], [sparse.py:57 - __init__()], context_window_size : 150\n",
      "[2020-11-23 15:12:18,818 INFO    ], [sparse.py:58 - __init__()],            use__gpu : False\n"
     ]
    }
   ],
   "source": [
    "sparse_reader = SparseReader(\n",
    "    model_name=model_name, \n",
    "    context_window_size=context_window_size, \n",
    "    use_gpu=use_gpu, \n",
    "    )"
   ]
  },
  {
   "cell_type": "code",
   "execution_count": 7,
   "metadata": {},
   "outputs": [],
   "source": [
    "response = sparse_reader.predict(query_1_results, top_k=top_k)"
   ]
  },
  {
   "cell_type": "code",
   "execution_count": 8,
   "metadata": {},
   "outputs": [
    {
     "name": "stderr",
     "output_type": "stream",
     "text": [
      "[2020-11-23 15:12:43,575 INFO    ], [<ipython-input-8-bb774345ead7>:1 - <module>()], {'answers': [{'answer': 'Designated Do D passport agents shall not accept '\n",
      "                        'regular U.S . passport applications',\n",
      "              'context': 'e . Designated Do D passport agents shall not accept '\n",
      "                         'regular U.S . passport applications unless granted '\n",
      "                         'written permission to do so by the Department of '\n",
      "                         'State ( Do S ) and the Do D EA for Do D Passport and '\n",
      "                         'Passport Agent Services .5 . RES',\n",
      "              'id': 'DoDD 1000.21E, 10 20 2009 OCR.pdf_1_3',\n",
      "              'text': 'e . Designated Do D passport agents shall not accept '\n",
      "                      'regular U.S . passport applications unless granted '\n",
      "                      'written permission to do so by the Department of State '\n",
      "                      '( Do S ) and the Do D EA for Do D Passport and Passport '\n",
      "                      'Agent Services .5 . RESPONSIBILITIES .See Enclosure 2 '\n",
      "                      '.6 . RELEASABILITY .Cleared for public release .This '\n",
      "                      'Directive is available on the Do D Issuances Web Site '\n",
      "                      'at http://www.dtic.mil/whs/directives . 7 .EFFECTIVE '\n",
      "                      'DATE .This Directive is effective October 20 , 2009 .'},\n",
      "             {'answer': 'Exercise program management and oversight of Do D '\n",
      "                        'passport and passport agent services',\n",
      "              'context': 'b . Exercise program management and oversight of Do '\n",
      "                         'D passport and passport agent services .',\n",
      "              'id': 'DoDD 1000.21E, 10 20 2009 OCR.pdf_2_6',\n",
      "              'text': 'b . Exercise program management and oversight of Do D '\n",
      "                      'passport and passport agent services .'},\n",
      "             {'answer': 'Maintain the names of individuals who will serve as '\n",
      "                        'Do D passport',\n",
      "              'context': 'i . Maintain the names of individuals who will serve '\n",
      "                         'as Do D passport and passport agent services points '\n",
      "                         'of contact for the Do D Components .',\n",
      "              'id': \"'DoDD 1000.21E, 10 20 2009 OCR.pdf_2_13\",\n",
      "              'text': 'i . Maintain the names of individuals who will serve as '\n",
      "                      'Do D passport and passport agent services points of '\n",
      "                      'contact for the Do D Components .'},\n",
      "             {'answer': 'f . Administer Do D passport and passport agent '\n",
      "                        'services',\n",
      "              'context': 'f . Administer Do D passport and passport agent '\n",
      "                         'services and ensure that Do D passport and passport '\n",
      "                         'agent services are instituted according to Do S '\n",
      "                         'guidelines .',\n",
      "              'id': 'DoDD 1000.21E, 10 20 2009 OCR.pdf_2_10',\n",
      "              'text': 'f . Administer Do D passport and passport agent '\n",
      "                      'services and ensure that Do D passport and passport '\n",
      "                      'agent services are instituted according to Do S '\n",
      "                      'guidelines .'},\n",
      "             {'answer': 'j',\n",
      "              'context': 'j . Perform an annual review of Do D passport and '\n",
      "                         'passport agent services with Do S and the Do D '\n",
      "                         'Components .',\n",
      "              'id': 'DoDD 1000.21E, 10 20 2009 OCR.pdf_2_14',\n",
      "              'text': 'j . Perform an annual review of Do D passport and '\n",
      "                      'passport agent services with Do S and the Do D '\n",
      "                      'Components .'},\n",
      "             {'answer': 'Do D Directive 1000.21',\n",
      "              'context': 'SUBJECT : Do D Passport and Passport Agent Services '\n",
      "                         'References : ( a ) Do D Directive 1000.21 , “ Do D '\n",
      "                         'Passport and Passport Agent Services , ” July 9 , '\n",
      "                         '1992 ( hereby canceled ) ',\n",
      "              'id': 'DoDD 1000.21E, 10 20 2009 OCR.pdf_0_5',\n",
      "              'text': 'SUBJECT : Do D Passport and Passport Agent Services '\n",
      "                      'References : ( a ) Do D Directive 1000.21 , “ Do D '\n",
      "                      'Passport and Passport Agent Services , ” July 9 , 1992 '\n",
      "                      '( hereby canceled ) '},\n",
      "             {'answer': 'POLICY .It is Do D policy',\n",
      "              'context': '4 . POLICY .It is Do D policy that : a .Passports '\n",
      "                         'issued by the U.S . Government are official U.S . '\n",
      "                         'documents and are considered at all times U.S . '\n",
      "                         'property . b .Do D employees an',\n",
      "              'id': 'DoDD 1000.21E, 10 20 2009 OCR.pdf_1_2',\n",
      "              'text': '4 . POLICY .It is Do D policy that : a .Passports '\n",
      "                      'issued by the U.S . Government are official U.S . '\n",
      "                      'documents and are considered at all times U.S . '\n",
      "                      'property . b .Do D employees and eligible family '\n",
      "                      'members traveling outside the United States on official '\n",
      "                      'travel to a foreign country requiring a U.S . passport '\n",
      "                      'pursuant to section 51.3 ( b ) of Reference ( b ) shall '\n",
      "                      'be provided an official U.S . passport , to include '\n",
      "                      'visas when required , at no expense to the Do D '\n",
      "                      'employees or their family members . c .Do D passport '\n",
      "                      'and passport agent services shall be made available to '\n",
      "                      'all Do D employees and family members through '\n",
      "                      'designated Do D passport agents . d .Designated Do D '\n",
      "                      'passport agents shall be full time or permanent part '\n",
      "                      'time Do D employees or members of the Military Services '\n",
      "                      '.'},\n",
      "             {'answer': 'Ensure that interdepartmental Do D passport agents',\n",
      "              'context': 'd . Ensure that interdepartmental Do D passport '\n",
      "                         'agents perform all services required by Do S and the '\n",
      "                         'Do D EA for acceptance of official U.S . passport '\n",
      "                         'applications .',\n",
      "              'id': 'DoDD 1000.21E, 10 20 2009 OCR.pdf_3_6',\n",
      "              'text': 'd . Ensure that interdepartmental Do D passport agents '\n",
      "                      'perform all services required by Do S and the Do D EA '\n",
      "                      'for acceptance of official U.S . passport applications '\n",
      "                      '.'},\n",
      "             {'answer': 'Provide annually',\n",
      "              'context': 'c . Provide annually a representative to jointly '\n",
      "                         'review Do D EA intradepartmental policies and '\n",
      "                         'procedures supporting Do D passport and passport '\n",
      "                         'agent services .',\n",
      "              'id': 'DoDD 1000.21E, 10 20 2009 OCR.pdf_3_5',\n",
      "              'text': 'c . Provide annually a representative to jointly review '\n",
      "                      'Do D EA intradepartmental policies and procedures '\n",
      "                      'supporting Do D passport and passport agent services .'},\n",
      "             {'answer': 'visa',\n",
      "              'context': 'ries of the Military Departments to accept passport '\n",
      "                         'applications and perform passport services to '\n",
      "                         'include administering oaths for passport purposes . '\n",
      "                         'visa .A stamp or impression placed on a page of a '\n",
      "                         'valid passport by a foreign embassy or consulate '\n",
      "                         'empowered to grant permission , as of the date '\n",
      "                         'issued ,',\n",
      "              'id': 'DoDD 1000.21E, 10 20 2009 OCR.pdf_4_5',\n",
      "              'text': 'A diplomatic passport , issued to a foreign service '\n",
      "                      'officer , a person in the diplomatic service , or a '\n",
      "                      'person having diplomatic status either because of the '\n",
      "                      'nature of his or her foreign mission or by reason of '\n",
      "                      'the office he or she holds . passport agent .A person '\n",
      "                      'authorized and empowered by the Secretary of State , '\n",
      "                      'the Do D EA for Do D Passport and Passport Agent '\n",
      "                      'Services , or the Secretaries of the Military '\n",
      "                      'Departments to accept passport applications and perform '\n",
      "                      'passport services to include administering oaths for '\n",
      "                      'passport purposes . visa .A stamp or impression placed '\n",
      "                      'on a page of a valid passport by a foreign embassy or '\n",
      "                      'consulate empowered to grant permission , as of the '\n",
      "                      'date issued , for the applicant to enter and remain in '\n",
      "                      'that country for a specific period of time .'}],\n",
      " 'query': 'blahblahblah'}\n"
     ]
    }
   ],
   "source": [
    "logger.info(pformat(response))"
   ]
  },
  {
   "cell_type": "code",
   "execution_count": null,
   "metadata": {},
   "outputs": [],
   "source": []
  }
 ],
 "metadata": {
  "kernelspec": {
   "display_name": "Python 3",
   "language": "python",
   "name": "python3"
  },
  "language_info": {
   "codemirror_mode": {
    "name": "ipython",
    "version": 3
   },
   "file_extension": ".py",
   "mimetype": "text/x-python",
   "name": "python",
   "nbconvert_exporter": "python",
   "pygments_lexer": "ipython3",
   "version": "3.6.8"
  }
 },
 "nbformat": 4,
 "nbformat_minor": 4
}
