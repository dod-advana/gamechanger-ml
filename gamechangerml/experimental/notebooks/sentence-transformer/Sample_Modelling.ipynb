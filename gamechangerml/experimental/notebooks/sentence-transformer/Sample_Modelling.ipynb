{
 "cells": [
  {
   "cell_type": "markdown",
   "metadata": {},
   "source": [
    "## Creating the Sentence Encoder Indices"
   ]
  },
  {
   "cell_type": "code",
   "execution_count": 2,
   "metadata": {},
   "outputs": [
    {
     "name": "stdout",
     "output_type": "stream",
     "text": [
      "/Users/robertha/Documents/gamechanger_project/gamechanger\n"
     ]
    }
   ],
   "source": [
    "%cd ../../../../"
   ]
  },
  {
   "cell_type": "code",
   "execution_count": 3,
   "metadata": {},
   "outputs": [],
   "source": [
    "from gamechangerml.src.search.sent_transformer.model import SentenceEncoder"
   ]
  },
  {
   "cell_type": "code",
   "execution_count": 4,
   "metadata": {},
   "outputs": [],
   "source": [
    "encoder_model = \"sentence-transformers/msmarco-distilbert-base-v2\"\n",
    "corpus_path = \"./sample_corpus\"\n",
    "index_path = \"./sample_index\""
   ]
  },
  {
   "cell_type": "code",
   "execution_count": 5,
   "metadata": {},
   "outputs": [
    {
     "data": {
      "application/vnd.jupyter.widget-view+json": {
       "model_id": "062eae308ec34b31a245267db49d9314",
       "version_major": 2,
       "version_minor": 0
      },
      "text/plain": [
       "Downloading:   0%|          | 0.00/482 [00:00<?, ?B/s]"
      ]
     },
     "metadata": {},
     "output_type": "display_data"
    },
    {
     "data": {
      "application/vnd.jupyter.widget-view+json": {
       "model_id": "755629afcf65411ebf8f4bd80996227d",
       "version_major": 2,
       "version_minor": 0
      },
      "text/plain": [
       "Downloading:   0%|          | 0.00/265M [00:00<?, ?B/s]"
      ]
     },
     "metadata": {},
     "output_type": "display_data"
    },
    {
     "data": {
      "application/vnd.jupyter.widget-view+json": {
       "model_id": "33eeeedb81e54565afb660ffeee337dc",
       "version_major": 2,
       "version_minor": 0
      },
      "text/plain": [
       "Downloading:   0%|          | 0.00/232k [00:00<?, ?B/s]"
      ]
     },
     "metadata": {},
     "output_type": "display_data"
    },
    {
     "data": {
      "application/vnd.jupyter.widget-view+json": {
       "model_id": "17de1205719c4ff8a789068d6c77ad82",
       "version_major": 2,
       "version_minor": 0
      },
      "text/plain": [
       "Downloading:   0%|          | 0.00/112 [00:00<?, ?B/s]"
      ]
     },
     "metadata": {},
     "output_type": "display_data"
    },
    {
     "data": {
      "application/vnd.jupyter.widget-view+json": {
       "model_id": "d3ee96cd9acb4c7da8d4551a2f82c918",
       "version_major": 2,
       "version_minor": 0
      },
      "text/plain": [
       "Downloading:   0%|          | 0.00/258 [00:00<?, ?B/s]"
      ]
     },
     "metadata": {},
     "output_type": "display_data"
    },
    {
     "ename": "FileNotFoundError",
     "evalue": "[Errno 2] No such file or directory: './sample_corpus'",
     "output_type": "error",
     "traceback": [
      "\u001b[0;31m---------------------------------------------------------------------------\u001b[0m",
      "\u001b[0;31mFileNotFoundError\u001b[0m                         Traceback (most recent call last)",
      "\u001b[0;32m<ipython-input-5-d8dfecdc3146>\u001b[0m in \u001b[0;36m<module>\u001b[0;34m\u001b[0m\n\u001b[1;32m      7\u001b[0m encoder.index_documents(\n\u001b[1;32m      8\u001b[0m     \u001b[0mcorpus_path\u001b[0m \u001b[0;34m=\u001b[0m \u001b[0mcorpus_path\u001b[0m\u001b[0;34m,\u001b[0m\u001b[0;34m\u001b[0m\u001b[0;34m\u001b[0m\u001b[0m\n\u001b[0;32m----> 9\u001b[0;31m     \u001b[0mindex_path\u001b[0m \u001b[0;34m=\u001b[0m \u001b[0mindex_path\u001b[0m\u001b[0;34m\u001b[0m\u001b[0;34m\u001b[0m\u001b[0m\n\u001b[0m\u001b[1;32m     10\u001b[0m )\n",
      "\u001b[0;32m~/Documents/gamechanger_project/gamechanger/gamechangerml/src/search/sent_transformer/model.py\u001b[0m in \u001b[0;36mindex_documents\u001b[0;34m(self, corpus_path, index_path, min_token_len)\u001b[0m\n\u001b[1;32m     54\u001b[0m         \u001b[0mlogging\u001b[0m\u001b[0;34m.\u001b[0m\u001b[0minfo\u001b[0m\u001b[0;34m(\u001b[0m\u001b[0;34mf\"Indexing documents from {corpus_path}\"\u001b[0m\u001b[0;34m)\u001b[0m\u001b[0;34m\u001b[0m\u001b[0;34m\u001b[0m\u001b[0m\n\u001b[1;32m     55\u001b[0m \u001b[0;34m\u001b[0m\u001b[0m\n\u001b[0;32m---> 56\u001b[0;31m         \u001b[0mcorp\u001b[0m \u001b[0;34m=\u001b[0m \u001b[0mLocalCorpus\u001b[0m\u001b[0;34m(\u001b[0m\u001b[0mcorpus_path\u001b[0m\u001b[0;34m,\u001b[0m \u001b[0mreturn_id\u001b[0m\u001b[0;34m=\u001b[0m\u001b[0;32mTrue\u001b[0m\u001b[0;34m,\u001b[0m \u001b[0mmin_token_len\u001b[0m \u001b[0;34m=\u001b[0m \u001b[0mmin_token_len\u001b[0m\u001b[0;34m)\u001b[0m\u001b[0;34m\u001b[0m\u001b[0;34m\u001b[0m\u001b[0m\n\u001b[0m\u001b[1;32m     57\u001b[0m \u001b[0;34m\u001b[0m\u001b[0m\n\u001b[1;32m     58\u001b[0m         self.embedder.index(\n",
      "\u001b[0;32m~/Documents/gamechanger_project/gamechanger/gamechangerml/src/text_handling/corpus.py\u001b[0m in \u001b[0;36m__init__\u001b[0;34m(self, directory, return_id, min_token_len)\u001b[0m\n\u001b[1;32m     10\u001b[0m         self.file_list = [\n\u001b[1;32m     11\u001b[0m             \u001b[0mos\u001b[0m\u001b[0;34m.\u001b[0m\u001b[0mpath\u001b[0m\u001b[0;34m.\u001b[0m\u001b[0mjoin\u001b[0m\u001b[0;34m(\u001b[0m\u001b[0mdirectory\u001b[0m\u001b[0;34m,\u001b[0m \u001b[0mfile\u001b[0m\u001b[0;34m)\u001b[0m\u001b[0;34m\u001b[0m\u001b[0;34m\u001b[0m\u001b[0m\n\u001b[0;32m---> 12\u001b[0;31m             \u001b[0;32mfor\u001b[0m \u001b[0mfile\u001b[0m \u001b[0;32min\u001b[0m \u001b[0mos\u001b[0m\u001b[0;34m.\u001b[0m\u001b[0mlistdir\u001b[0m\u001b[0;34m(\u001b[0m\u001b[0mdirectory\u001b[0m\u001b[0;34m)\u001b[0m\u001b[0;34m\u001b[0m\u001b[0;34m\u001b[0m\u001b[0m\n\u001b[0m\u001b[1;32m     13\u001b[0m             \u001b[0;32mif\u001b[0m \u001b[0mfile\u001b[0m\u001b[0;34m[\u001b[0m\u001b[0;34m-\u001b[0m\u001b[0;36m5\u001b[0m\u001b[0;34m:\u001b[0m\u001b[0;34m]\u001b[0m \u001b[0;34m==\u001b[0m \u001b[0;34m\".json\"\u001b[0m\u001b[0;34m\u001b[0m\u001b[0;34m\u001b[0m\u001b[0m\n\u001b[1;32m     14\u001b[0m         ]\n",
      "\u001b[0;31mFileNotFoundError\u001b[0m: [Errno 2] No such file or directory: './sample_corpus'"
     ]
    }
   ],
   "source": [
    "# Calling the class\n",
    "encoder = SentenceEncoder(\n",
    "    encoder_model = encoder_model\n",
    ")\n",
    "\n",
    "# Create the document indices\n",
    "encoder.index_documents(\n",
    "    corpus_path = corpus_path,\n",
    "    index_path = index_path\n",
    ")"
   ]
  },
  {
   "cell_type": "code",
   "execution_count": null,
   "metadata": {},
   "outputs": [],
   "source": []
  },
  {
   "cell_type": "markdown",
   "metadata": {},
   "source": [
    "## Loading the Sentence Searcher Class"
   ]
  },
  {
   "cell_type": "code",
   "execution_count": null,
   "metadata": {},
   "outputs": [],
   "source": [
    "from gamechangerml.src.search.sent_transformer.model import SentenceSearcher\n",
    "import pandas as pd"
   ]
  },
  {
   "cell_type": "code",
   "execution_count": null,
   "metadata": {},
   "outputs": [],
   "source": [
    "encoder_model = \"sentence-transformers/msmarco-distilbert-base-v2\"\n",
    "sim_model = \"valhalla/distilbart-mnli-12-3\"\n",
    "index_path = \"./sample_index\""
   ]
  },
  {
   "cell_type": "code",
   "execution_count": 6,
   "metadata": {},
   "outputs": [],
   "source": [
    "# Calling the search class\n",
    "searcher = SentenceSearcher(\n",
    "    index_path = index_path,\n",
    "    encoder_model = encoder_model,\n",
    "    sim_model = sim_model\n",
    ")"
   ]
  },
  {
   "cell_type": "code",
   "execution_count": 8,
   "metadata": {},
   "outputs": [],
   "source": [
    "# Printing out the results\n",
    "results = searcher.search(\"Under Secretary of Defense for Intelligence\")"
   ]
  },
  {
   "cell_type": "code",
   "execution_count": 12,
   "metadata": {},
   "outputs": [
    {
     "data": {
      "text/html": [
       "<div>\n",
       "<style scoped>\n",
       "    .dataframe tbody tr th:only-of-type {\n",
       "        vertical-align: middle;\n",
       "    }\n",
       "\n",
       "    .dataframe tbody tr th {\n",
       "        vertical-align: top;\n",
       "    }\n",
       "\n",
       "    .dataframe thead th {\n",
       "        text-align: right;\n",
       "    }\n",
       "</style>\n",
       "<table border=\"1\" class=\"dataframe\">\n",
       "  <thead>\n",
       "    <tr style=\"text-align: right;\">\n",
       "      <th></th>\n",
       "      <th>Score</th>\n",
       "      <th>Paragraph ID</th>\n",
       "      <th>Text</th>\n",
       "    </tr>\n",
       "  </thead>\n",
       "  <tbody>\n",
       "    <tr>\n",
       "      <th>0</th>\n",
       "      <td>0.884854</td>\n",
       "      <td>DoDI 5134.16 CH 1.pdf_79</td>\n",
       "      <td>u work with the under secretary of defense for intelligence to integrate systems engineering efforts with specialty engineering functions such as cyber security and program</td>\n",
       "    </tr>\n",
       "    <tr>\n",
       "      <th>1</th>\n",
       "      <td>0.033241</td>\n",
       "      <td>DoDI 5134.17 CH 3.pdf_80</td>\n",
       "      <td>a report to the usd at l through the assistant secretary of defense for research and engineering asd r e</td>\n",
       "    </tr>\n",
       "    <tr>\n",
       "      <th>2</th>\n",
       "      <td>0.026342</td>\n",
       "      <td>DoDI 5134.16 CH 1.pdf_94</td>\n",
       "      <td>a report to the usd at l through the assistant secretary of defense research and engineering</td>\n",
       "    </tr>\n",
       "    <tr>\n",
       "      <th>3</th>\n",
       "      <td>0.019835</td>\n",
       "      <td>DoDI 5134.17 CH 3.pdf_42</td>\n",
       "      <td>c provide advice and make recommendations to the secretary of defense and the usd at l regarding dt e and the execution of these activities within and across defense acquisition programs issue guidance to and consult with the heads of the do d components with respect to dt e in the do d</td>\n",
       "    </tr>\n",
       "    <tr>\n",
       "      <th>4</th>\n",
       "      <td>0.013403</td>\n",
       "      <td>DoDI 5134.17 CH 3.pdf_31</td>\n",
       "      <td>dasd dt e the dasd dt e is the principal advisor to the secretary of defense and the under secretary of defense for acquisition technology and logistics usd at l on dt e in the do d in accordance with reference a in this capacity the dasd dt e shall</td>\n",
       "    </tr>\n",
       "    <tr>\n",
       "      <th>5</th>\n",
       "      <td>0.009942</td>\n",
       "      <td>DoDI 5134.04 CH 1.pdf_2</td>\n",
       "      <td>originating component office of the under secretary of defense for acquisition and sustainment</td>\n",
       "    </tr>\n",
       "    <tr>\n",
       "      <th>6</th>\n",
       "      <td>0.003490</td>\n",
       "      <td>DoDI 5134.16 CH 1.pdf_70</td>\n",
       "      <td>l serve as the defense standardization executive with authority over the defense standardization program office</td>\n",
       "    </tr>\n",
       "    <tr>\n",
       "      <th>7</th>\n",
       "      <td>0.003455</td>\n",
       "      <td>DoDI 5134.17 CH 3.pdf_7</td>\n",
       "      <td>c deputy secretary of defense memorandum establishment of the office of the under secretary of defense for research and engineering and the office of the under secretary of defense for acquisition and sustainment july</td>\n",
       "    </tr>\n",
       "    <tr>\n",
       "      <th>8</th>\n",
       "      <td>0.002028</td>\n",
       "      <td>DoDI 5134.17 CH 3.pdf_106</td>\n",
       "      <td>usd at l under secretary of defense for acquisition technology and logistics</td>\n",
       "    </tr>\n",
       "    <tr>\n",
       "      <th>9</th>\n",
       "      <td>0.002028</td>\n",
       "      <td>DoDI 5134.16 CH 1.pdf_116</td>\n",
       "      <td>usd at l under secretary of defense for acquisition technology and logistics</td>\n",
       "    </tr>\n",
       "  </tbody>\n",
       "</table>\n",
       "</div>"
      ],
      "text/plain": [
       "      Score               Paragraph ID  \\\n",
       "0  0.884854  DoDI 5134.16 CH 1.pdf_79    \n",
       "1  0.033241  DoDI 5134.17 CH 3.pdf_80    \n",
       "2  0.026342  DoDI 5134.16 CH 1.pdf_94    \n",
       "3  0.019835  DoDI 5134.17 CH 3.pdf_42    \n",
       "4  0.013403  DoDI 5134.17 CH 3.pdf_31    \n",
       "5  0.009942  DoDI 5134.04 CH 1.pdf_2     \n",
       "6  0.003490  DoDI 5134.16 CH 1.pdf_70    \n",
       "7  0.003455  DoDI 5134.17 CH 3.pdf_7     \n",
       "8  0.002028  DoDI 5134.17 CH 3.pdf_106   \n",
       "9  0.002028  DoDI 5134.16 CH 1.pdf_116   \n",
       "\n",
       "                                                                                                                                                                                                                                                                                              Text  \n",
       "0  u work with the under secretary of defense for intelligence to integrate systems engineering efforts with specialty engineering functions such as cyber security and program                                                                                                                     \n",
       "1  a report to the usd at l through the assistant secretary of defense for research and engineering asd r e                                                                                                                                                                                         \n",
       "2  a report to the usd at l through the assistant secretary of defense research and engineering                                                                                                                                                                                                     \n",
       "3  c provide advice and make recommendations to the secretary of defense and the usd at l regarding dt e and the execution of these activities within and across defense acquisition programs issue guidance to and consult with the heads of the do d components with respect to dt e in the do d  \n",
       "4  dasd dt e the dasd dt e is the principal advisor to the secretary of defense and the under secretary of defense for acquisition technology and logistics usd at l on dt e in the do d in accordance with reference a in this capacity the dasd dt e shall                                        \n",
       "5  originating component office of the under secretary of defense for acquisition and sustainment                                                                                                                                                                                                   \n",
       "6  l serve as the defense standardization executive with authority over the defense standardization program office                                                                                                                                                                                  \n",
       "7  c deputy secretary of defense memorandum establishment of the office of the under secretary of defense for research and engineering and the office of the under secretary of defense for acquisition and sustainment july                                                                        \n",
       "8  usd at l under secretary of defense for acquisition technology and logistics                                                                                                                                                                                                                     \n",
       "9  usd at l under secretary of defense for acquisition technology and logistics                                                                                                                                                                                                                     "
      ]
     },
     "execution_count": 12,
     "metadata": {},
     "output_type": "execute_result"
    }
   ],
   "source": [
    "pd.set_option('display.max_colwidth', 0)\n",
    "pd.DataFrame(results, columns = [\"Score\", \"Paragraph ID\", \"Text\"])"
   ]
  },
  {
   "cell_type": "code",
   "execution_count": null,
   "metadata": {},
   "outputs": [],
   "source": []
  }
 ],
 "metadata": {
  "kernelspec": {
   "display_name": "Python 3",
   "language": "python",
   "name": "python3"
  },
  "language_info": {
   "codemirror_mode": {
    "name": "ipython",
    "version": 3
   },
   "file_extension": ".py",
   "mimetype": "text/x-python",
   "name": "python",
   "nbconvert_exporter": "python",
   "pygments_lexer": "ipython3",
   "version": "3.6.12"
  }
 },
 "nbformat": 4,
 "nbformat_minor": 4
}
