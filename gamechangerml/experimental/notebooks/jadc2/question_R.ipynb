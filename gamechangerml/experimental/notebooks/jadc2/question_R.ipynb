{
 "cells": [
  {
   "cell_type": "markdown",
   "metadata": {},
   "source": [
    "# GC JADC2 POC\n",
    "\n",
    "- Manually pull the **Description** for each **Goal and Objectives** in [Section 2.2](./resources/DOD-DIGITAL-MODERNIZATION-STRATEGY-2019.PDF) into a [spreadsheet](./data/goals-and-objectives.csv)\n",
    "- Use [`txtai`](https://github.com/neuml/txtai) for this prototype\n",
    "- Use the answers to **Question R** as \"queries\" and see how it looks\n",
    "\n",
    "## Goals & Objectives Format\n",
    "Each DoD CIO goal is presented with the following component parts: \n",
    "\n",
    "- Goal:\n",
    "  - A **Description** of the goal, including what it encompasses\n",
    "  - The **Mission Impact** on the Department resulting from achievement of the objectives for that goal \n",
    "- Objective:\n",
    "  - A **Description** that provides a rationale for the work and describes what the objective will accomplish\n",
    "  - Each objective is further decomposed into the **Strategy Elements** that describe the specific, focused initiatives needed to accomplish that particular objective \n"
   ]
  },
  {
   "cell_type": "code",
   "execution_count": null,
   "metadata": {},
   "outputs": [],
   "source": [
    "# import sys\n",
    "# import pathlib\n",
    "# PACKAGE_ROOT = pathlib.Path(__name__).absolute().parent.parent.parent.parent\n",
    "# REPO_ROOT = PACKAGE_ROOT.parent\n",
    "# sys.path.insert(0,str(REPO_ROOT))"
   ]
  },
  {
   "cell_type": "code",
   "execution_count": 2,
   "metadata": {},
   "outputs": [],
   "source": [
    "import pandas as pd\n",
    "import re\n",
    "import string"
   ]
  },
  {
   "cell_type": "code",
   "execution_count": 3,
   "metadata": {},
   "outputs": [],
   "source": [
    "def clean_text(text:str) -> str:\n",
    "    \"\"\"Make text lowercase, remove text in square brackets,remove links,remove punctuation\n",
    "    and remove words containing numbers.\"\"\"\n",
    "    text = re.sub(\"https?://\\S+|www\\.\\S+\", \"\", text)\n",
    "    text = re.sub(\"[%s]\" % re.escape(string.punctuation), \"\", text)\n",
    "    text = re.sub(\"\\n\", \"\", text)\n",
    "    return text"
   ]
  },
  {
   "cell_type": "code",
   "execution_count": 4,
   "metadata": {},
   "outputs": [
    {
     "data": {
      "text/plain": [
       "'Goal 1: Innovate for Competitive Advantage \\n\\nDescription: Innovation is a key element of future readiness. It is essential to preserving and \\nexpanding US military competitive advantage in the face of near-peer competition and \\nasymmetric threats. A theme running through the National Defense Strategy—and subordinate \\nstrategies like the Artificial Intelligence Strategy—is that preserving and expanding our military \\nadvantage depends on our ability to deliver technology faster than our adversaries and the agility \\nof our enterprise to adapt our way of fighting to the potential advantages of innovative \\ntechnology. The Department will evaluate opportunities for innovation, pursuing those deemed \\nmost suitable to address military problems and including those likely to deliver leap-ahead \\ncapabilities. \\n\\nCloud and cognitive computing will significantly alter warfighting and defense business \\noperations. Recognizing this, the Department established the Joint Artificial Intelligence Center \\n'"
      ]
     },
     "execution_count": 4,
     "metadata": {},
     "output_type": "execute_result"
    }
   ],
   "source": [
    "with open(\"./data/goals-and-objectives.txt\",\"r\") as f:\n",
    "    raw_text = f.read()"
   ]
  },
  {
   "cell_type": "code",
   "execution_count": 15,
   "metadata": {},
   "outputs": [
    {
     "data": {
      "text/plain": [
       "['Goal 1: Innovate for Competitive Advantage',\n",
       " 'Goal 2: Optimize for Efficiencies and Improved Capability',\n",
       " 'Goal 3: Evolve Cybersecurity for an Agile and Resilient Defense Posture',\n",
       " 'Goal 4: Cultivate Talent for a Ready Digital Workforce']"
      ]
     },
     "execution_count": 15,
     "metadata": {},
     "output_type": "execute_result"
    }
   ],
   "source": [
    "goals = re.findall(r\"Goal \\d: [\\w ]+\", raw_text)\n",
    "goals = [g.strip() for g in goals]\n",
    "goals"
   ]
  },
  {
   "cell_type": "code",
   "execution_count": 26,
   "metadata": {},
   "outputs": [],
   "source": [
    "g_desc = re.compile(r\"Description: (.*) Mission Impact:\")\n",
    "final_dict= {i: {} for i in range(len(goals))}\n",
    "\n",
    "for idx in range(len(goals)-1):\n",
    "    end = raw_text.index(f\"{goals[idx+1]}\")\n",
    "    start = raw_text.index(f\"{goals[idx]}\") + len(goals[idx])\n",
    "    goal_text = raw_text[start:end]\n",
    "    temp = re.sub(r\"\\n+\", \"\", goal_text).strip()\n",
    "    description = g_desc.search(temp).group(1)\n",
    "    \n",
    "    o_texts = re.findall(r\"Objective \\d+: [\\w|( +)|-]+\", temp, flags=re.DOTALL)\n",
    "    objectives = {i: {} for i in range(len(o_texts))}\n",
    "    for o_idx in range(len(o_texts)-1):\n",
    "        end = temp.index(f\"{o_texts[o_idx+1]}\")\n",
    "        start = temp.index(f\"{o_texts[o_idx]}\") + len(o_texts[o_idx])\n",
    "        objectives[o_idx] = {\"name\": o_texts[o_idx], \"description\": temp[start+2:end].encode('ascii', errors='ignore').strip().decode('ascii')}\n",
    "    objectives[len(o_texts)-1] = {\"name\": o_texts[len(o_texts)-1], \"description\": temp[(temp.index(f\"{o_texts[-1]}\") + len(o_texts[-1]))+2:].encode('ascii', errors='ignore').strip().decode('ascii')}\n",
    "    \n",
    "    final_dict[idx] = {\"name\": re.findall(r\"Goal \\d: ([\\w ]+)\",goals[idx]), \"description\": clean_text(description).encode('ascii', errors='ignore').strip().decode('ascii'), \"objectives\": objectives}\n",
    "\n",
    "start = raw_text.index(f\"{goals[-1]}\") + len(goals[-1])\n",
    "goal_text = raw_text[start:]\n",
    "temp = re.sub(r\"\\n+\", \"\", goal_text).strip()\n",
    "description = g_desc.search(temp).group(1)\n",
    "\n",
    "o_texts = re.findall(r\"Objective \\d+: [\\w|( +)|-]+\", temp, flags=re.DOTALL)\n",
    "objectives = {i: {} for i in range(len(o_texts))}\n",
    "for o_idx in range(len(o_texts)-1):\n",
    "    end = temp.index(f\"{o_texts[o_idx+1]}\")\n",
    "    start = temp.index(f\"{o_texts[o_idx]}\") + len(o_texts[o_idx])\n",
    "    objectives[o_idx] = {\"name\": o_texts[o_idx], \"description\": temp[start+2:end].encode('ascii', errors='ignore').strip().decode('ascii')}\n",
    "objectives[len(o_texts)-1] = {\"name\": o_texts[len(o_texts)-1], \"description\": temp[(temp.index(f\"{o_texts[-1]}\") + len(o_texts[-1]))+2:].encode('ascii', errors='ignore').strip().decode('ascii')}\n",
    "\n",
    "final_dict[len(goals)-1] = {\"name\": re.findall(r\"Goal \\d: ([\\w ]+)\",goals[-1]), \"description\": clean_text(description).encode('ascii', errors='ignore').strip().decode('ascii'), \"objectives\": objectives}\n"
   ]
  },
  {
   "cell_type": "code",
   "execution_count": 27,
   "metadata": {},
   "outputs": [],
   "source": [
    "import json\n",
    "with open(\"./data/goals-and-objectives.json\",\"w+\") as f:\n",
    "    json.dump(final_dict, f)"
   ]
  },
  {
   "cell_type": "code",
   "execution_count": null,
   "metadata": {},
   "outputs": [],
   "source": []
  }
 ],
 "metadata": {
  "interpreter": {
   "hash": "b8672affddbe81a0fec87f04114e49089279ebcae387922ca1c0291a9184c883"
  },
  "kernelspec": {
   "display_name": "Python 3.10.3 ('.venv': poetry)",
   "language": "python",
   "name": "python3"
  },
  "language_info": {
   "codemirror_mode": {
    "name": "ipython",
    "version": 3
   },
   "file_extension": ".py",
   "mimetype": "text/x-python",
   "name": "python",
   "nbconvert_exporter": "python",
   "pygments_lexer": "ipython3",
   "version": "3.10.3"
  },
  "orig_nbformat": 4
 },
 "nbformat": 4,
 "nbformat_minor": 2
}
