{
 "cells": [
  {
   "cell_type": "markdown",
   "metadata": {},
   "source": [
    "# GC JADC2 POC\n",
    "\n",
    "- Manually pull the **Description** for each **Goal and Objectives** in [Section 2.2](./resources/DOD-DIGITAL-MODERNIZATION-STRATEGY-2019.PDF) into a [spreadsheet](./data/goals-and-objectives.csv)\n",
    "- Use [`txtai`](https://github.com/neuml/txtai) for this prototype\n",
    "- Use the answers to **Question R** as \"queries\" and see how it looks\n",
    "\n",
    "## Goals & Objectives Format\n",
    "Each DoD CIO goal is presented with the following component parts: \n",
    "\n",
    "- Goal:\n",
    "  - A **Description** of the goal, including what it encompasses\n",
    "  - The **Mission Impact** on the Department resulting from achievement of the objectives for that goal \n",
    "- Objective:\n",
    "  - A **Description** that provides a rationale for the work and describes what the objective will accomplish\n",
    "  - Each objective is further decomposed into the **Strategy Elements** that describe the specific, focused initiatives needed to accomplish that particular objective \n"
   ]
  },
  {
   "cell_type": "code",
   "execution_count": null,
   "metadata": {},
   "outputs": [],
   "source": [
    "import pandas as pd\n",
    "import re\n",
    "import string\n",
    "import json\n",
    "from IPython.display import display, HTML\n",
    "\n",
    "RESET = False\n",
    "\n",
    "pd.set_option('display.max_columns', 999)\n",
    "pd.set_option('display.max_colwidth', 999)\n",
    "pd.set_option('display.expand_frame_repr', True)\n",
    "\n",
    "def pretty_print(df:pd.DataFrame):\n",
    "    display(HTML(df.to_html().replace(\"\\\\n\",\"<br>\")))\n",
    "\n",
    "def print_data_summary(df: pd.DataFrame, info:bool = False, num_rows:int = 5, seed:int = 0) -> None:\n",
    "    num_samples, dim = df.shape\n",
    "    print(f\"{num_samples = }, {dim = }\")\n",
    "    if info:\n",
    "        display(df.info())\n",
    "    pretty_print(df.sample(num_rows, random_state=seed))\n",
    "\n",
    "def clean_text(text:str) -> str:\n",
    "    \"\"\"Remove links, remove punctuation, and remove carriage returns.\"\"\"\n",
    "    text = re.sub(\"https?://\\S+|www\\.\\S+\", \"\", text)\n",
    "    text = re.sub(\"[%s]\" % re.escape(string.punctuation), \"\", text)\n",
    "    text = re.sub(\"\\n\", \"\", text)\n",
    "    return text"
   ]
  },
  {
   "cell_type": "code",
   "execution_count": null,
   "metadata": {},
   "outputs": [],
   "source": [
    "if RESET:\n",
    "    with open(\"./data/goals-and-objectives.txt\",\"r\") as f:\n",
    "        raw_text = f.read()\n",
    "\n",
    "    goals = re.findall(r\"Goal \\d: [\\w ]+\", raw_text)\n",
    "    goals = [g.strip() for g in goals]\n",
    "    print(goals)\n",
    "\n",
    "    g_desc = re.compile(r\"Description: (.*) Mission Impact:\")\n",
    "    final_dict= {i: {} for i in range(len(goals))}\n",
    "    final_list = []\n",
    "\n",
    "    for idx in range(len(goals)-1):\n",
    "        end = raw_text.index(f\"{goals[idx+1]}\")\n",
    "        start = raw_text.index(f\"{goals[idx]}\") + len(goals[idx])\n",
    "        goal_text = raw_text[start:end]\n",
    "        temp = re.sub(r\"\\n+\", \"\", goal_text).strip()\n",
    "        description = g_desc.search(temp).group(1)\n",
    "        \n",
    "        o_texts = re.findall(r\"Objective \\d+: [\\w|( +)|-]+\", temp, flags=re.DOTALL)\n",
    "        objectives = {i: {} for i in range(len(o_texts))}\n",
    "        obj_ist = []\n",
    "        for o_idx in range(len(o_texts)-1):\n",
    "            end = temp.index(f\"{o_texts[o_idx+1]}\")\n",
    "            start = temp.index(f\"{o_texts[o_idx]}\") + len(o_texts[o_idx])\n",
    "            objectives[o_idx] = {\"name\": o_texts[o_idx], \"description\": temp[start+2:end].encode('ascii', errors='ignore').strip().decode('ascii')}\n",
    "            obj_ist.append(objectives[o_idx])\n",
    "        objectives[len(o_texts)-1] = {\"name\": o_texts[len(o_texts)-1], \"description\": temp[(temp.index(f\"{o_texts[-1]}\") + len(o_texts[-1]))+2:].encode('ascii', errors='ignore').strip().decode('ascii')}\n",
    "        obj_ist.append(objectives[len(o_texts)-1])\n",
    "\n",
    "        final_dict[idx] = {\"name\": re.findall(r\"Goal \\d: ([\\w ]+)\",goals[idx])[0], \"description\": clean_text(description).encode('ascii', errors='ignore').strip().decode('ascii'), \"objectives\": obj_ist}\n",
    "        final_list.append(final_dict[idx])\n",
    "\n",
    "    start = raw_text.index(f\"{goals[-1]}\") + len(goals[-1])\n",
    "    goal_text = raw_text[start:]\n",
    "    temp = re.sub(r\"\\n+\", \"\", goal_text).strip()\n",
    "    description = g_desc.search(temp).group(1)\n",
    "\n",
    "    o_texts = re.findall(r\"Objective \\d+: [\\w|( +)|-]+\", temp, flags=re.DOTALL)\n",
    "    objectives = {i: {} for i in range(len(o_texts))}\n",
    "    obj_ist = []\n",
    "    for o_idx in range(len(o_texts)-1):\n",
    "        end = temp.index(f\"{o_texts[o_idx+1]}\")\n",
    "        start = temp.index(f\"{o_texts[o_idx]}\") + len(o_texts[o_idx])\n",
    "        objectives[o_idx] = {\"name\": o_texts[o_idx], \"description\": temp[start+2:end].encode('ascii', errors='ignore').strip().decode('ascii')}\n",
    "        obj_ist.append(objectives[o_idx])\n",
    "    objectives[len(o_texts)-1] = {\"name\": o_texts[len(o_texts)-1], \"description\": temp[(temp.index(f\"{o_texts[-1]}\") + len(o_texts[-1]))+2:].encode('ascii', errors='ignore').strip().decode('ascii')}\n",
    "    obj_ist.append(objectives[len(o_texts)-1])\n",
    "\n",
    "    final_dict[len(goals)-1] = {\"name\": re.findall(r\"Goal \\d: ([\\w ]+)\",goals[-1])[0], \"description\": clean_text(description).encode('ascii', errors='ignore').strip().decode('ascii'), \"objectives\": obj_ist}\n",
    "    final_list.append(final_dict[len(goals)-1])\n",
    "\n",
    "    with open(\"./data/goals-and-objectives.json\",\"w+\") as f:\n",
    "        json.dump(final_dict, f)\n",
    "\n",
    "    goals_descriptions = pd.DataFrame([(final_list[o][\"name\"],final_list[o][\"description\"]) for o in range(len(final_list))], columns=[\"goal_name\", \"goal_description\"])\n",
    "    goals_descriptions.reset_index(inplace=True)\n",
    "\n",
    "    objectives = pd.DataFrame([])\n",
    "    for o_idx in range(len(final_list)):\n",
    "        objective = pd.json_normalize(final_list[o_idx][\"objectives\"], max_level=0)\n",
    "        objective[\"index\"] = o_idx\n",
    "        objective.set_index(\"index\", inplace=True)\n",
    "        objective.reset_index(inplace=True)\n",
    "        objectives = pd.concat([objectives, objective], axis=0)\n",
    "    data = goals_descriptions.merge(objectives)\n",
    "    data.columns = ['index', 'goal_name', 'goal_description', 'objective_name', 'objective_description']\n",
    "    data.to_csv(\"./data/dms-go-2019.csv\", index=False)\n",
    "\n",
    "    del objectives, objective, goals_descriptions, o_idx"
   ]
  },
  {
   "cell_type": "markdown",
   "metadata": {},
   "source": [
    "## Embeddings"
   ]
  },
  {
   "cell_type": "markdown",
   "metadata": {},
   "source": [
    "### Load Goals and Objectives Descriptions for DoD"
   ]
  },
  {
   "cell_type": "code",
   "execution_count": null,
   "metadata": {},
   "outputs": [],
   "source": [
    "strategy_data = pd.read_csv(\"./data/dms-go-2019.csv\", index_col=0)\n",
    "print_data_summary(strategy_data, num_rows=1)"
   ]
  },
  {
   "cell_type": "markdown",
   "metadata": {},
   "source": [
    "### Load Survey Capability Descriptions"
   ]
  },
  {
   "cell_type": "code",
   "execution_count": null,
   "metadata": {},
   "outputs": [],
   "source": [
    "survey = pd.read_excel(\"./resources/JCAT Export NIPR (APR-15-2022).xlsx\")\n",
    "capabilities = pd.DataFrame(survey[survey.columns[-4]])\n",
    "capabilities.columns = [\"capability_description\"]\n",
    "print_data_summary(capabilities, num_rows=1)"
   ]
  },
  {
   "cell_type": "code",
   "execution_count": null,
   "metadata": {},
   "outputs": [],
   "source": [
    "from txtai.embeddings import Embeddings\n",
    "\n",
    "# Create embeddings model, backed by sentence-transformers & transformers\n",
    "embeddings = Embeddings({\"path\": \"sentence-transformers/nli-mpnet-base-v2\"})"
   ]
  },
  {
   "cell_type": "code",
   "execution_count": null,
   "metadata": {},
   "outputs": [],
   "source": [
    "# Create an index for the list of text\n",
    "embeddings.index([(uid, text, None) for uid, text in enumerate(strategy_data.goal_description.tolist())])"
   ]
  },
  {
   "cell_type": "code",
   "execution_count": null,
   "metadata": {},
   "outputs": [],
   "source": []
  }
 ],
 "metadata": {
  "interpreter": {
   "hash": "b8672affddbe81a0fec87f04114e49089279ebcae387922ca1c0291a9184c883"
  },
  "kernelspec": {
   "display_name": "Python 3.10.3 ('.venv': poetry)",
   "language": "python",
   "name": "python3"
  },
  "language_info": {
   "codemirror_mode": {
    "name": "ipython",
    "version": 3
   },
   "file_extension": ".py",
   "mimetype": "text/x-python",
   "name": "python",
   "nbconvert_exporter": "python",
   "pygments_lexer": "ipython3",
   "version": "3.10.3"
  },
  "orig_nbformat": 4
 },
 "nbformat": 4,
 "nbformat_minor": 2
}
