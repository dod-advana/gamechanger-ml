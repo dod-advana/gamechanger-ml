{
   "cells": [
      {
         "cell_type": "code",
         "execution_count": null,
         "metadata": {},
         "outputs": [],
         "source": [
            "import pandas as pd\n",
            "from txtai.embeddings import Embeddings\n",
            "import re\n",
            "import unicodedata\n",
            "import string\n",
            "\n",
            "def remove_punctuation(text:str) -> str:\n",
            "    return ''.join([c for c in text if c not in string.punctuation])\n",
            "\n",
            "def remove_accented_chars(text: str) -> str:\n",
            "    return unicodedata.normalize('NFKD', text).encode('ascii', 'ignore').decode('utf-8', 'ignore')\n",
            "\n",
            "def remove_numbers(text: str) -> str:\n",
            "    pattern = r'[^a-zA-z.,!?/:;\\\"\\'\\s]' \n",
            "    return re.sub(pattern, '', text)\n",
            "\n",
            "def remove_special_characters(text: str) -> str:\n",
            "    pat = r'[^a-zA-z0-9.,!?/:;\\\"\\'\\s]' \n",
            "    return re.sub(pat, '', text)"
         ]
      },
      {
         "cell_type": "markdown",
         "metadata": {},
         "source": [
            "## Combine Goals and Objectives (with titles) into one paragraph and make comparison"
         ]
      },
      {
         "cell_type": "code",
         "execution_count": null,
         "metadata": {},
         "outputs": [],
         "source": [
            "go = pd.read_csv(\"./data/processed/goals-objectives-combined.csv\", index_col=\"goal_id\")\n",
            "go.sort_index(inplace=True)\n",
            "go.reset_index(inplace=True)\n",
            "go"
         ]
      },
      {
         "cell_type": "code",
         "execution_count": null,
         "metadata": {},
         "outputs": [],
         "source": [
            "embeddings = Embeddings({\"path\": \"sentence-transformers/nli-mpnet-base-v2\"})\n",
            "embeddings.index([(uid, text, None) for uid, text in enumerate(go.goal_objective.tolist())])"
         ]
      },
      {
         "cell_type": "code",
         "execution_count": null,
         "metadata": {},
         "outputs": [],
         "source": [
            "results = pd.DataFrame([(query_id, query, go.iloc[embeddings.search(query, 1)[0][0]]['goal_name'], query_description) for _, query_id, query, query_description in go.to_records()])\n",
            "results.columns = [\"query_id\", \"query\", \"resul_goalname\", \"query_description\"]\n",
            "for _, query_id, query, query_description in go.to_records():\n",
            "    print(f\"{query_id} | {query} | {go.iloc[embeddings.search(query, 1)[0][0]]['goal_name']}\")\n",
            "results.to_csv(\"./results/goal-objectives-combined-results.csv\", index=False)"
         ]
      },
      {
         "cell_type": "code",
         "execution_count": null,
         "metadata": {},
         "outputs": [],
         "source": [
            "survey = pd.read_excel(\"./resources/JCAT Export NIPR (APR-15-2022).xlsx\")\n",
            "capabilities = pd.DataFrame(survey[survey.columns[-5:-3]])\n",
            "capabilities.columns = [\"general_comments\", \"capability_description\"]\n",
            "capabilities[\"capability_description\"] = capabilities[\"capability_description\"].apply(lambda x: remove_special_characters(x))\n",
            "capabilities[\"capability_description\"] = capabilities[\"capability_description\"].apply(lambda x: remove_accented_chars(x))\n",
            "capabilities.head()"
         ]
      },
      {
         "cell_type": "code",
         "execution_count": null,
         "metadata": {},
         "outputs": [],
         "source": [
            "results = []\n",
            "for _, _, capability in capabilities.to_records():\n",
            "    result_id, score = embeddings.search(capability, 1)[0]\n",
            "    results.append((result_id, score, capability, *go.loc[result_id,['goal_name', 'goal_objective']].values.tolist()))\n",
            "\n",
            "results = pd.DataFrame(results, columns=[\"result_id\", \"score\", \"capability_query\", \"goal_name\", \"goal_objective_description\"])\n",
            "results.head()\n",
            "results.to_csv(\"./results/survey-alignment.csv\", index=False)"
         ]
      },
      {
         "cell_type": "code",
         "execution_count": null,
         "metadata": {},
         "outputs": [],
         "source": []
      }
   ],
   "metadata": {
      "interpreter": {
         "hash": "b8672affddbe81a0fec87f04114e49089279ebcae387922ca1c0291a9184c883"
      },
      "kernelspec": {
         "display_name": "Python 3.10.3 ('.venv': poetry)",
         "language": "python",
         "name": "python3"
      },
      "language_info": {
         "codemirror_mode": {
            "name": "ipython",
            "version": 3
         },
         "file_extension": ".py",
         "mimetype": "text/x-python",
         "name": "python",
         "nbconvert_exporter": "python",
         "pygments_lexer": "ipython3",
         "version": "3.10.3"
      },
      "orig_nbformat": 4
   },
   "nbformat": 4,
   "nbformat_minor": 2
}
