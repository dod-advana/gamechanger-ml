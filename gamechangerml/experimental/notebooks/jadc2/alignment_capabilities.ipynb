{
 "cells": [
  {
   "cell_type": "markdown",
   "metadata": {},
   "source": [
    "# GC JADC2 POC\n",
    "\n",
    "- Manually pull the **Description** for each **Goal and Objectives** in [Section 2.2](./resources/DOD-DIGITAL-MODERNIZATION-STRATEGY-2019.PDF) into a [spreadsheet](./data/goals-and-objectives.csv)\n",
    "- Use [`txtai`](https://github.com/neuml/txtai) for this prototype\n",
    "- Use the answers to **Question R** as \"queries\" and see how it looks\n",
    "\n",
    "## Goals & Objectives Format\n",
    "Each DoD CIO goal is presented with the following component parts: \n",
    "\n",
    "- Goal:\n",
    "  - A **Description** of the goal, including what it encompasses\n",
    "  - The **Mission Impact** on the Department resulting from achievement of the objectives for that goal \n",
    "- Objective:\n",
    "  - A **Description** that provides a rationale for the work and describes what the objective will accomplish\n",
    "  - Each objective is further decomposed into the **Strategy Elements** that describe the specific, focused initiatives needed to accomplish that particular objective \n"
   ]
  },
  {
   "cell_type": "code",
   "execution_count": 7,
   "metadata": {},
   "outputs": [],
   "source": [
    "import pandas as pd\n",
    "import re\n",
    "import string\n",
    "import json\n",
    "from IPython.display import display, HTML\n",
    "from typing import List\n",
    "\n",
    "RESET = False\n",
    "\n",
    "pd.set_option('display.max_columns', 999)\n",
    "pd.set_option('display.max_colwidth', 999)\n",
    "pd.set_option('display.expand_frame_repr', True)\n",
    "\n",
    "def pretty_print(df:pd.DataFrame):\n",
    "    display(HTML(df.to_html().replace(\"\\\\n\",\"<br>\")))\n",
    "\n",
    "def print_data_summary(df: pd.DataFrame, info:bool = False, num_rows:int = 5, seed:int = 0) -> None:\n",
    "    num_samples, dim = df.shape\n",
    "    print(f\"{num_samples = }, {dim = }\")\n",
    "    if info:\n",
    "        display(df.info()) \n",
    "    if num_rows > num_samples:\n",
    "        num_rows = num_samples\n",
    "    pretty_print(df.sample(num_rows, random_state=seed))"
   ]
  },
  {
   "cell_type": "code",
   "execution_count": 1,
   "metadata": {},
   "outputs": [],
   "source": [
    "with open(\"./data/goals-and-objectives.txt\",\"r\") as f:\n",
    "    raw_text = f.read()"
   ]
  },
  {
   "cell_type": "code",
   "execution_count": null,
   "metadata": {},
   "outputs": [],
   "source": []
  }
 ],
 "metadata": {
  "interpreter": {
   "hash": "b8672affddbe81a0fec87f04114e49089279ebcae387922ca1c0291a9184c883"
  },
  "kernelspec": {
   "display_name": "Python 3.10.3 ('.venv': poetry)",
   "language": "python",
   "name": "python3"
  },
  "language_info": {
   "codemirror_mode": {
    "name": "ipython",
    "version": 3
   },
   "file_extension": ".py",
   "mimetype": "text/x-python",
   "name": "python",
   "nbconvert_exporter": "python",
   "pygments_lexer": "ipython3",
   "version": "3.10.3"
  },
  "orig_nbformat": 4
 },
 "nbformat": 4,
 "nbformat_minor": 2
}
