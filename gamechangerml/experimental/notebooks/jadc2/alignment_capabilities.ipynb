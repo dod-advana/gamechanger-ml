{
 "cells": [
  {
   "cell_type": "code",
   "execution_count": 8,
   "metadata": {},
   "outputs": [],
   "source": [
    "import pandas as pd\n",
    "from txtai.embeddings import Embeddings\n",
    "import re\n",
    "import unicodedata\n",
    "import string\n",
    "\n",
    "def remove_punctuation(text:str) -> str:\n",
    "    return ''.join([c for c in text if c not in string.punctuation])\n",
    "\n",
    "def remove_accented_chars(text: str) -> str:\n",
    "    return unicodedata.normalize('NFKD', text).encode('ascii', 'ignore').decode('utf-8', 'ignore')\n",
    "\n",
    "def remove_numbers(text: str) -> str:\n",
    "    pattern = r'[^a-zA-z.,!?/:;\\\"\\'\\s]' \n",
    "    return re.sub(pattern, '', text)\n",
    "\n",
    "def remove_special_characters(text: str) -> str:\n",
    "    pat = r'[^a-zA-z0-9.,!?/:;\\\"\\'\\s]' \n",
    "    return re.sub(pat, '', text)"
   ]
  },
  {
   "cell_type": "markdown",
   "metadata": {},
   "source": [
    "## Combine Goals and Objectives (with titles) into one paragraph and make comparison"
   ]
  },
  {
   "cell_type": "code",
   "execution_count": 9,
   "metadata": {},
   "outputs": [
    {
     "data": {
      "text/html": [
       "<div>\n",
       "<style scoped>\n",
       "    .dataframe tbody tr th:only-of-type {\n",
       "        vertical-align: middle;\n",
       "    }\n",
       "\n",
       "    .dataframe tbody tr th {\n",
       "        vertical-align: top;\n",
       "    }\n",
       "\n",
       "    .dataframe thead th {\n",
       "        text-align: right;\n",
       "    }\n",
       "</style>\n",
       "<table border=\"1\" class=\"dataframe\">\n",
       "  <thead>\n",
       "    <tr style=\"text-align: right;\">\n",
       "      <th></th>\n",
       "      <th>goal_id</th>\n",
       "      <th>goal_name</th>\n",
       "      <th>goal_objective</th>\n",
       "    </tr>\n",
       "  </thead>\n",
       "  <tbody>\n",
       "    <tr>\n",
       "      <th>0</th>\n",
       "      <td>0</td>\n",
       "      <td>Innovate for Competitive Advantage</td>\n",
       "      <td>Innovation is a key element of future readines...</td>\n",
       "    </tr>\n",
       "    <tr>\n",
       "      <th>1</th>\n",
       "      <td>1</td>\n",
       "      <td>Optimize for Efficiencies and Improved Capability</td>\n",
       "      <td>Delivering IT capabilities with greater effici...</td>\n",
       "    </tr>\n",
       "    <tr>\n",
       "      <th>2</th>\n",
       "      <td>2</td>\n",
       "      <td>Evolve Cybersecurity for an Agile and Resilien...</td>\n",
       "      <td>The scope pace and sophistication of malicious...</td>\n",
       "    </tr>\n",
       "    <tr>\n",
       "      <th>3</th>\n",
       "      <td>3</td>\n",
       "      <td>Cultivate Talent for a Ready Digital Workforce</td>\n",
       "      <td>Competition for high quality experienced digit...</td>\n",
       "    </tr>\n",
       "  </tbody>\n",
       "</table>\n",
       "</div>"
      ],
      "text/plain": [
       "   goal_id                                          goal_name  \\\n",
       "0        0                 Innovate for Competitive Advantage   \n",
       "1        1  Optimize for Efficiencies and Improved Capability   \n",
       "2        2  Evolve Cybersecurity for an Agile and Resilien...   \n",
       "3        3     Cultivate Talent for a Ready Digital Workforce   \n",
       "\n",
       "                                      goal_objective  \n",
       "0  Innovation is a key element of future readines...  \n",
       "1  Delivering IT capabilities with greater effici...  \n",
       "2  The scope pace and sophistication of malicious...  \n",
       "3  Competition for high quality experienced digit...  "
      ]
     },
     "execution_count": 9,
     "metadata": {},
     "output_type": "execute_result"
    }
   ],
   "source": [
    "go = pd.read_csv(\"./data/processed/goals-objectives-combined.csv\", index_col=\"goal_id\")\n",
    "go.sort_index(inplace=True)\n",
    "go.reset_index(inplace=True)\n",
    "go"
   ]
  },
  {
   "cell_type": "code",
   "execution_count": 10,
   "metadata": {},
   "outputs": [],
   "source": [
    "embeddings = Embeddings({\"path\": \"sentence-transformers/nli-mpnet-base-v2\"})\n",
    "embeddings.index([(uid, text, None) for uid, text in enumerate(go.goal_objective.tolist())])"
   ]
  },
  {
   "cell_type": "code",
   "execution_count": 11,
   "metadata": {},
   "outputs": [
    {
     "name": "stdout",
     "output_type": "stream",
     "text": [
      "0 | Innovate for Competitive Advantage | Innovate for Competitive Advantage\n",
      "1 | Optimize for Efficiencies and Improved Capability | Optimize for Efficiencies and Improved Capability\n",
      "2 | Evolve Cybersecurity for an Agile and Resilient Defense Posture | Evolve Cybersecurity for an Agile and Resilient Defense Posture\n",
      "3 | Cultivate Talent for a Ready Digital Workforce | Cultivate Talent for a Ready Digital Workforce\n"
     ]
    }
   ],
   "source": [
    "results = pd.DataFrame([(query_id, query, go.iloc[embeddings.search(query, 1)[0][0]]['goal_name'], query_description) for _, query_id, query, query_description in go.to_records()])\n",
    "results.columns = [\"query_id\", \"query\", \"resul_goalname\", \"query_description\"]\n",
    "for _, query_id, query, query_description in go.to_records():\n",
    "    print(f\"{query_id} | {query} | {go.iloc[embeddings.search(query, 1)[0][0]]['goal_name']}\")\n",
    "results.to_csv(\"./results/goal-objectives-combined-results.csv\", index=False)"
   ]
  },
  {
   "cell_type": "code",
   "execution_count": 12,
   "metadata": {},
   "outputs": [
    {
     "data": {
      "text/html": [
       "<div>\n",
       "<style scoped>\n",
       "    .dataframe tbody tr th:only-of-type {\n",
       "        vertical-align: middle;\n",
       "    }\n",
       "\n",
       "    .dataframe tbody tr th {\n",
       "        vertical-align: top;\n",
       "    }\n",
       "\n",
       "    .dataframe thead th {\n",
       "        text-align: right;\n",
       "    }\n",
       "</style>\n",
       "<table border=\"1\" class=\"dataframe\">\n",
       "  <thead>\n",
       "    <tr style=\"text-align: right;\">\n",
       "      <th></th>\n",
       "      <th>capability_description</th>\n",
       "    </tr>\n",
       "  </thead>\n",
       "  <tbody>\n",
       "    <tr>\n",
       "      <th>0</th>\n",
       "      <td>GDI/ACEM is a cloud based, multi enclave SIPR/...</td>\n",
       "    </tr>\n",
       "    <tr>\n",
       "      <th>1</th>\n",
       "      <td>The NorthStar Information Dominance Platform T...</td>\n",
       "    </tr>\n",
       "    <tr>\n",
       "      <th>2</th>\n",
       "      <td>Bodhi is NRO's Global Situational Awareness pl...</td>\n",
       "    </tr>\n",
       "    <tr>\n",
       "      <th>3</th>\n",
       "      <td>Maven Broad Area Surveillance  Targeting BAST\\...</td>\n",
       "    </tr>\n",
       "    <tr>\n",
       "      <th>4</th>\n",
       "      <td>High Accuracy Detection and Exploitation Syste...</td>\n",
       "    </tr>\n",
       "  </tbody>\n",
       "</table>\n",
       "</div>"
      ],
      "text/plain": [
       "                              capability_description\n",
       "0  GDI/ACEM is a cloud based, multi enclave SIPR/...\n",
       "1  The NorthStar Information Dominance Platform T...\n",
       "2  Bodhi is NRO's Global Situational Awareness pl...\n",
       "3  Maven Broad Area Surveillance  Targeting BAST\\...\n",
       "4  High Accuracy Detection and Exploitation Syste..."
      ]
     },
     "execution_count": 12,
     "metadata": {},
     "output_type": "execute_result"
    }
   ],
   "source": [
    "survey = pd.read_excel(\"./resources/JCAT Export NIPR (APR-15-2022).xlsx\")\n",
    "capabilities = pd.DataFrame(survey[survey.columns[-4]])\n",
    "capabilities.columns = [\"capability_description\"]\n",
    "capabilities[\"capability_description\"] = capabilities[\"capability_description\"].apply(lambda x: remove_special_characters(x))\n",
    "capabilities[\"capability_description\"] = capabilities[\"capability_description\"].apply(lambda x: remove_accented_chars(x))\n",
    "capabilities.head()"
   ]
  },
  {
   "cell_type": "code",
   "execution_count": null,
   "metadata": {},
   "outputs": [],
   "source": [
    "results = pd.DataFrame([(capability, *go.loc[embeddings.search(capability, 1)[0][0], ['goal_name', 'goal_objective']].values.tolist()) for _, capability in capabilities.to_records()])\n",
    "results.columns = [\"capability_query\", \"goal_name\", \"goal_objective\"]\n",
    "results.head()"
   ]
  },
  {
   "cell_type": "code",
   "execution_count": null,
   "metadata": {},
   "outputs": [],
   "source": [
    "results.to_csv(\"./results/survey-alignment.csv\", index=False)"
   ]
  }
 ],
 "metadata": {
  "interpreter": {
   "hash": "b8672affddbe81a0fec87f04114e49089279ebcae387922ca1c0291a9184c883"
  },
  "kernelspec": {
   "display_name": "Python 3.10.3 ('.venv': poetry)",
   "language": "python",
   "name": "python3"
  },
  "language_info": {
   "codemirror_mode": {
    "name": "ipython",
    "version": 3
   },
   "file_extension": ".py",
   "mimetype": "text/x-python",
   "name": "python",
   "nbconvert_exporter": "python",
   "pygments_lexer": "ipython3",
   "version": "3.10.3"
  },
  "orig_nbformat": 4
 },
 "nbformat": 4,
 "nbformat_minor": 2
}
